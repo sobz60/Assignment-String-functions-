{
 "cells": [
  {
   "cell_type": "code",
   "execution_count": 1,
   "metadata": {},
   "outputs": [
    {
     "name": "stdout",
     "output_type": "stream",
     "text": [
      "9\n"
     ]
    }
   ],
   "source": [
    "a = \"Sobia Ali\"\n",
    "print (len(a))"
   ]
  },
  {
   "cell_type": "code",
   "execution_count": 4,
   "metadata": {},
   "outputs": [
    {
     "name": "stdout",
     "output_type": "stream",
     "text": [
      "<built-in method lstrip of str object at 0x000001FEBEE9D730>\n"
     ]
    }
   ],
   "source": [
    "print (a.lstrip)"
   ]
  },
  {
   "cell_type": "code",
   "execution_count": 5,
   "metadata": {},
   "outputs": [
    {
     "name": "stdout",
     "output_type": "stream",
     "text": [
      "9\n"
     ]
    }
   ],
   "source": [
    "print (len(a.lstrip()))"
   ]
  },
  {
   "cell_type": "code",
   "execution_count": 6,
   "metadata": {},
   "outputs": [
    {
     "name": "stdout",
     "output_type": "stream",
     "text": [
      "['We', 'love', 'Pakistan']\n"
     ]
    }
   ],
   "source": [
    "b = \"We love Pakistan\"\n",
    "print (b.split())"
   ]
  },
  {
   "cell_type": "code",
   "execution_count": 13,
   "metadata": {},
   "outputs": [
    {
     "data": {
      "text/plain": [
       "'pakistan is best'"
      ]
     },
     "execution_count": 13,
     "metadata": {},
     "output_type": "execute_result"
    }
   ],
   "source": [
    "c = \"Pakistan is best\"\n",
    "c.casefold()\n",
    "\n"
   ]
  },
  {
   "cell_type": "code",
   "execution_count": 17,
   "metadata": {},
   "outputs": [
    {
     "data": {
      "text/plain": [
       "'maaz Is good bOy'"
      ]
     },
     "execution_count": 17,
     "metadata": {},
     "output_type": "execute_result"
    }
   ],
   "source": [
    "m = \"maaz Is good bOy\"\n",
    "m.center(len(a))\n"
   ]
  },
  {
   "cell_type": "code",
   "execution_count": 19,
   "metadata": {},
   "outputs": [
    {
     "data": {
      "text/plain": [
       "2"
      ]
     },
     "execution_count": 19,
     "metadata": {},
     "output_type": "execute_result"
    }
   ],
   "source": [
    "a = \"Muneeza is good girl, is not She?\"\n",
    "substring = \"is\"\n",
    "a.count(substring)\n"
   ]
  },
  {
   "cell_type": "code",
   "execution_count": 20,
   "metadata": {},
   "outputs": [
    {
     "data": {
      "text/plain": [
       "b'Muneeza is good girl, is not She'"
      ]
     },
     "execution_count": 20,
     "metadata": {},
     "output_type": "execute_result"
    }
   ],
   "source": [
    "a.encode()\n"
   ]
  },
  {
   "cell_type": "code",
   "execution_count": 21,
   "metadata": {},
   "outputs": [
    {
     "name": "stdout",
     "output_type": "stream",
     "text": [
      "b'Muneeza is good girl, is not She'\n"
     ]
    }
   ],
   "source": [
    "print(a.encode(encoding=\"ascii\",errors=\"ignore\"))\n",
    "\n"
   ]
  },
  {
   "cell_type": "code",
   "execution_count": 27,
   "metadata": {},
   "outputs": [
    {
     "name": "stdout",
     "output_type": "stream",
     "text": [
      "True\n"
     ]
    }
   ],
   "source": [
    "a = \"pakistan has won cricket World Cup  yahoo pakistan.\"\n",
    "result = a.endswith('pakistan.')\n",
    "print(result)\n",
    "\n"
   ]
  },
  {
   "cell_type": "code",
   "execution_count": 29,
   "metadata": {},
   "outputs": [
    {
     "data": {
      "text/plain": [
       "'xyz     12345   abc'"
      ]
     },
     "execution_count": 29,
     "metadata": {},
     "output_type": "execute_result"
    }
   ],
   "source": [
    "a = 'xyz\\t12345\\tabc'\n",
    "a.expandtabs()\n"
   ]
  },
  {
   "cell_type": "code",
   "execution_count": 40,
   "metadata": {},
   "outputs": [
    {
     "name": "stdout",
     "output_type": "stream",
     "text": [
      "substring 'i am': 0\n",
      "Substring 'let it': 11\n"
     ]
    }
   ],
   "source": [
    "a = \"i am idiot, i am idiot, i am idiot\"\n",
    "result = a.find('i am')\n",
    "print(\"substring 'i am':\", result)\n",
    "\n",
    "quote = 'Let it be, let it be, let it be'\n",
    "\n",
    "result = quote.find('let it')\n",
    "print(\"Substring 'let it':\", result)\n",
    "\n",
    "\n",
    "\n"
   ]
  },
  {
   "cell_type": "code",
   "execution_count": 42,
   "metadata": {},
   "outputs": [
    {
     "name": "stdout",
     "output_type": "stream",
     "text": [
      "Hello, I am 18 years old !\n",
      "Hello i will be turning 36 this year\n"
     ]
    }
   ],
   "source": [
    "# formatting a string using a numeric constant \n",
    "print (\"Hello, I am {} years old !\".format(18))  \n",
    "\n",
    "print(\"Hello i will be turning {} this year\".format(36))"
   ]
  },
  {
   "cell_type": "code",
   "execution_count": 43,
   "metadata": {},
   "outputs": [
    {
     "name": "stdout",
     "output_type": "stream",
     "text": [
      "sobia's last name is Ali\n"
     ]
    }
   ],
   "source": [
    " # input stored in variable a. \n",
    "a = {'x':'sobia', 'y':'Ali'} \n",
    "# Use of format_map() function \n",
    "print(\"{x}'s last name is {y}\".format_map(a))\n",
    "\n"
   ]
  },
  {
   "cell_type": "code",
   "execution_count": 44,
   "metadata": {},
   "outputs": [
    {
     "name": "stdout",
     "output_type": "stream",
     "text": [
      "The index of a: 4\n",
      "The index of i: 3\n"
     ]
    }
   ],
   "source": [
    "Name = ['s', 'o', 'b', 'i', 'a']\n",
    "# index of 'a'\n",
    "index = Name.index('a')\n",
    "print('The index of a:', index)\n",
    "# index of the first 'i'\n",
    "index = Name.index('i')\n",
    "print('The index of i:', index)\n"
   ]
  },
  {
   "cell_type": "code",
   "execution_count": 45,
   "metadata": {},
   "outputs": [
    {
     "data": {
      "text/plain": [
       "False"
      ]
     },
     "execution_count": 45,
     "metadata": {},
     "output_type": "execute_result"
    }
   ],
   "source": [
    "a = \"pakistan is populated\"\n",
    "a.isalnum()\n"
   ]
  },
  {
   "cell_type": "code",
   "execution_count": 5,
   "metadata": {},
   "outputs": [
    {
     "name": "stdout",
     "output_type": "stream",
     "text": [
      "True\n"
     ]
    }
   ],
   "source": [
    "b = \"Ali\"\n",
    "print(b.isalpha())"
   ]
  },
  {
   "cell_type": "code",
   "execution_count": 7,
   "metadata": {},
   "outputs": [
    {
     "data": {
      "text/plain": [
       "False"
      ]
     },
     "execution_count": 7,
     "metadata": {},
     "output_type": "execute_result"
    }
   ],
   "source": [
    "b = \"zainab 123\"\n",
    "b.isalpha()"
   ]
  },
  {
   "cell_type": "code",
   "execution_count": 10,
   "metadata": {},
   "outputs": [
    {
     "name": "stdout",
     "output_type": "stream",
     "text": [
      "'python is interesting'\n"
     ]
    }
   ],
   "source": [
    "#  string containing printable representation of an object.\n",
    "Text = \"python is interesting\"\n",
    "print(ascii(Text))\n",
    "\n",
    "\n",
    "\n"
   ]
  },
  {
   "cell_type": "code",
   "execution_count": 11,
   "metadata": {},
   "outputs": [
    {
     "data": {
      "text/plain": [
       "True"
      ]
     },
     "execution_count": 11,
     "metadata": {},
     "output_type": "execute_result"
    }
   ],
   "source": [
    "# returns true if all character are decimal\n",
    "s = \"12859\"\n",
    "s.isdecimal()\n"
   ]
  },
  {
   "cell_type": "code",
   "execution_count": 12,
   "metadata": {},
   "outputs": [
    {
     "data": {
      "text/plain": [
       "True"
      ]
     },
     "execution_count": 12,
     "metadata": {},
     "output_type": "execute_result"
    }
   ],
   "source": [
    "s.isdigit()"
   ]
  },
  {
   "cell_type": "code",
   "execution_count": 13,
   "metadata": {},
   "outputs": [
    {
     "data": {
      "text/plain": [
       "False"
      ]
     },
     "execution_count": 13,
     "metadata": {},
     "output_type": "execute_result"
    }
   ],
   "source": [
    "s.isidentifier()\n"
   ]
  },
  {
   "cell_type": "code",
   "execution_count": 14,
   "metadata": {},
   "outputs": [
    {
     "name": "stdout",
     "output_type": "stream",
     "text": [
      "True\n"
     ]
    }
   ],
   "source": [
    "# returns True if the string is a valid identifier in Python. If not, it returns False.\n",
    "c = 'Python'\n",
    "print(c.isidentifier())\n",
    "\n"
   ]
  },
  {
   "cell_type": "code",
   "execution_count": 19,
   "metadata": {},
   "outputs": [
    {
     "name": "stdout",
     "output_type": "stream",
     "text": [
      "True\n"
     ]
    }
   ],
   "source": [
    "#This method returns true if all cased characters in the string are lowercase and \n",
    "b = \"this is string example....wow!!!\"\n",
    "a = b.islower()\n",
    "print(a)"
   ]
  },
  {
   "cell_type": "code",
   "execution_count": 20,
   "metadata": {},
   "outputs": [
    {
     "name": "stdout",
     "output_type": "stream",
     "text": [
      "False\n"
     ]
    }
   ],
   "source": [
    "print(b.isnumeric())\n"
   ]
  },
  {
   "cell_type": "code",
   "execution_count": 21,
   "metadata": {},
   "outputs": [
    {
     "data": {
      "text/plain": [
       "True"
      ]
     },
     "execution_count": 21,
     "metadata": {},
     "output_type": "execute_result"
    }
   ],
   "source": [
    "b.isprintable()"
   ]
  },
  {
   "cell_type": "code",
   "execution_count": 22,
   "metadata": {},
   "outputs": [
    {
     "name": "stdout",
     "output_type": "stream",
     "text": [
      "False\n"
     ]
    }
   ],
   "source": [
    "c = \"issa is bad boy 2019\"\n",
    "c.isspace()\n",
    "d = c.isspace()\n",
    "print(d)"
   ]
  },
  {
   "cell_type": "code",
   "execution_count": 23,
   "metadata": {},
   "outputs": [
    {
     "data": {
      "text/plain": [
       "False"
      ]
     },
     "execution_count": 23,
     "metadata": {},
     "output_type": "execute_result"
    }
   ],
   "source": [
    "c.istitle()"
   ]
  },
  {
   "cell_type": "code",
   "execution_count": 24,
   "metadata": {},
   "outputs": [
    {
     "name": "stdout",
     "output_type": "stream",
     "text": [
      "False\n"
     ]
    }
   ],
   "source": [
    "#Check if each word start with an upper case letter:\n",
    "c = \"I love Pakistan\"\n",
    "print(c.istitle())\n"
   ]
  },
  {
   "cell_type": "code",
   "execution_count": 26,
   "metadata": {},
   "outputs": [
    {
     "name": "stdout",
     "output_type": "stream",
     "text": [
      "True\n"
     ]
    }
   ],
   "source": [
    "a = \"Hello, Welcome To My Home!\"\n",
    "\n",
    "x = a.istitle()\n",
    "\n",
    "print(x)\n"
   ]
  },
  {
   "cell_type": "code",
   "execution_count": 27,
   "metadata": {},
   "outputs": [
    {
     "data": {
      "text/plain": [
       "False"
      ]
     },
     "execution_count": 27,
     "metadata": {},
     "output_type": "execute_result"
    }
   ],
   "source": [
    "a.isupper()"
   ]
  },
  {
   "cell_type": "code",
   "execution_count": 28,
   "metadata": {},
   "outputs": [
    {
     "name": "stdout",
     "output_type": "stream",
     "text": [
      "True\n"
     ]
    }
   ],
   "source": [
    "# The isupper() methods returns “True” if all characters in the string are uppercase, Otherwise, It returns “False”.\n",
    "a = \"PAKISTAN\"\n",
    "print(a.isupper())\n"
   ]
  },
  {
   "cell_type": "code",
   "execution_count": 31,
   "metadata": {},
   "outputs": [
    {
     "name": "stdout",
     "output_type": "stream",
     "text": [
      "s*o*b*i*a\n"
     ]
    }
   ],
   "source": [
    "# The join() method is a string method and returns a string in which the elements of sequence have been joined by str separator.\n",
    "\n",
    "# The join() method returns a string concatenated with the elements of iterable\n",
    "list1 = ['s','o','b','i', 'a']  \n",
    "  \n",
    "s = \"*\"\n",
    "  \n",
    "# joins elements of list1 by '*' \n",
    "# and stores in sting s \n",
    "s = s.join(list1) \n",
    "  \n",
    "# join use to join a list of \n",
    "# strings to a separator s \n",
    "print(s) \n",
    "\n"
   ]
  },
  {
   "cell_type": "code",
   "execution_count": 33,
   "metadata": {},
   "outputs": [
    {
     "name": "stdout",
     "output_type": "stream",
     "text": [
      "5\n",
      "Sobia\n"
     ]
    }
   ],
   "source": [
    "# returns a new string of given length after substituting a given character in left side of original string.\n",
    "b = \"Sobia\"\n",
    "len(b)\n",
    "c = len(b)\n",
    "print(c)\n",
    "\n",
    "\n",
    "print(b.rjust(c)) \n"
   ]
  },
  {
   "cell_type": "code",
   "execution_count": 40,
   "metadata": {},
   "outputs": [
    {
     "name": "stdout",
     "output_type": "stream",
     "text": [
      "The original string is : \n",
      " I love geeksforgeeks \n",
      "\n",
      "The left aligned string is : \n",
      "I love geeksforgeeks--------------------\n"
     ]
    }
   ],
   "source": [
    "\n",
    "# Python3 code to demonstrate  \n",
    "# the working of  ljust() \n",
    "  \n",
    "lstr = \"I love geeksforgeeks\"\n",
    "  \n",
    "# Printing the original string \n",
    "print (\"The original string is : \\n\", lstr, \"\\n\") \n",
    "  \n",
    "# Printing the left aligned  \n",
    "# string with \"-\" padding  \n",
    "print (\"The left aligned string is : \") \n",
    "print (lstr.ljust(40, '-')) \n",
    "\n",
    "\n",
    "\n"
   ]
  },
  {
   "cell_type": "code",
   "execution_count": 43,
   "metadata": {},
   "outputs": [
    {
     "data": {
      "text/plain": [
       "'please finis soon'"
      ]
     },
     "execution_count": 43,
     "metadata": {},
     "output_type": "execute_result"
    }
   ],
   "source": [
    "a = \"Please FINIS soon\"\n",
    "a.lower()\n"
   ]
  },
  {
   "cell_type": "code",
   "execution_count": 51,
   "metadata": {},
   "outputs": [
    {
     "name": "stdout",
     "output_type": "stream",
     "text": [
      "i am sobia \n"
     ]
    }
   ],
   "source": [
    "# returns a copy of the string with leading characters stripped\n",
    " \n",
    "a = '   i am sobia '\n",
    "print(a.lstrip())\n",
    "\n"
   ]
  },
  {
   "cell_type": "code",
   "execution_count": 54,
   "metadata": {},
   "outputs": [
    {
     "name": "stdout",
     "output_type": "stream",
     "text": [
      "{97: 120, 98: 121, 99: 122}\n",
      "{97: 120, 98: 121, 99: 122}\n"
     ]
    }
   ],
   "source": [
    "# maketrans() method is a static method that creates a one to one mapping of a character to its translation/replacement\n",
    "\n",
    "String_1 = \"abc\"\n",
    "String_2 = \"xyz\"\n",
    "string = \"abc\"\n",
    "print(string.maketrans(String_1, String_2))\n",
    "\n",
    "# example dictionary\n",
    "String_1 = \"abc\"\n",
    "String_2 = \"xyz\"\n",
    "string = \"abc\"\n",
    "print(string.maketrans(String_1, String_2))\n"
   ]
  },
  {
   "cell_type": "code",
   "execution_count": 60,
   "metadata": {},
   "outputs": [
    {
     "name": "stdout",
     "output_type": "stream",
     "text": [
      "('I can run 2Km Daily', '', '')\n"
     ]
    }
   ],
   "source": [
    "\n",
    "# The partition() method takes a string parameter separator that separates the string at the first occurrence of it.\n",
    "\n",
    "a = \"I can run 2Km Daily\"\n",
    "\n",
    "b = a.partition(\"bananas\")\n",
    "\n",
    "print(b)\n",
    "\n"
   ]
  },
  {
   "cell_type": "code",
   "execution_count": 61,
   "metadata": {},
   "outputs": [
    {
     "name": "stdout",
     "output_type": "stream",
     "text": [
      "I can't run 2Km Daily\n"
     ]
    }
   ],
   "source": [
    "# replace the specific word\n",
    "\n",
    "a = \"I can run 2Km Daily\"\n",
    "\n",
    "b = a.replace(\"can\" , \"can't\")\n",
    "\n",
    "print(b)\n"
   ]
  },
  {
   "cell_type": "code",
   "execution_count": 62,
   "metadata": {},
   "outputs": [
    {
     "name": "stdout",
     "output_type": "stream",
     "text": [
      "13\n"
     ]
    }
   ],
   "source": [
    "# The rfind() method finds the last occurrence of the specified value.\n",
    "\n",
    "txt = \"Hello, welcome to my world.\"\n",
    "\n",
    "x = txt.rfind(\"e\")\n",
    "\n",
    "print(x)"
   ]
  },
  {
   "cell_type": "code",
   "execution_count": 65,
   "metadata": {},
   "outputs": [
    {
     "name": "stdout",
     "output_type": "stream",
     "text": [
      "11\n"
     ]
    }
   ],
   "source": [
    "b = \"My name is sobia.\"\n",
    "\n",
    "x = b.rindex(\"sobia\")\n",
    "\n",
    "print(x)\n"
   ]
  },
  {
   "cell_type": "code",
   "execution_count": 69,
   "metadata": {},
   "outputs": [
    {
     "name": "stdout",
     "output_type": "stream",
     "text": [
      "  pak\n"
     ]
    }
   ],
   "source": [
    "# rjust() method returns the right-justified string within the given minimum width.\n",
    "\n",
    "\n",
    "a = 'pak'\n",
    "width = 5\n",
    "\n",
    "# print right justified string\n",
    "print(a.rjust(width))\n"
   ]
  },
  {
   "cell_type": "code",
   "execution_count": 71,
   "metadata": {},
   "outputs": [
    {
     "name": "stdout",
     "output_type": "stream",
     "text": [
      "('Python ', 'is ', 'fun')\n",
      "('', '', 'Python is fun')\n",
      "('Python is fun, ', 'is', \"n't it\")\n"
     ]
    }
   ],
   "source": [
    "\n",
    "string = \"Python is fun\"\n",
    "\n",
    "# 'is' separator is found\n",
    "print(string.rpartition('is '))\n",
    "\n",
    "# 'not' separator is not found\n",
    "print(string.rpartition('not '))\n",
    "\n",
    "string = \"Python is fun, isn't it\"\n",
    "\n",
    "# splits at last occurence of 'is'\n",
    "print(string.rpartition('is'))"
   ]
  },
  {
   "cell_type": "code",
   "execution_count": 74,
   "metadata": {},
   "outputs": [
    {
     "name": "stdout",
     "output_type": "stream",
     "text": [
      "['apple', 'Potato', 'cherry']\n"
     ]
    }
   ],
   "source": [
    "a = \"apple, Potato, cherry\"\n",
    "\n",
    "x = a.rsplit(\", \")\n",
    "\n",
    "print(x)\n"
   ]
  },
  {
   "cell_type": "code",
   "execution_count": 85,
   "metadata": {},
   "outputs": [
    {
     "name": "stdout",
     "output_type": "stream",
     "text": [
      "['Thank you for the music', 'Welcome to the jungle']\n"
     ]
    }
   ],
   "source": [
    "# Split a string into a list where each line is a list item\n",
    "\n",
    "txt = \"Thank you for the music\\nWelcome to the jungle\"\n",
    "\n",
    "x = txt.splitlines()\n",
    "\n",
    "print(x)\n",
    "\n",
    "\n"
   ]
  },
  {
   "cell_type": "code",
   "execution_count": 86,
   "metadata": {},
   "outputs": [
    {
     "data": {
      "text/plain": [
       "['Thank you for the music', 'Welcome to the jungle']"
      ]
     },
     "execution_count": 86,
     "metadata": {},
     "output_type": "execute_result"
    }
   ],
   "source": [
    "txt.splitlines()"
   ]
  },
  {
   "cell_type": "code",
   "execution_count": 90,
   "metadata": {},
   "outputs": [
    {
     "name": "stdout",
     "output_type": "stream",
     "text": [
      "False\n",
      "True\n"
     ]
    }
   ],
   "source": [
    "# The startswith() method returns True if a string starts with the specified prefix(string). If not, it returns False.\n",
    "text = \"Python is easy to learn.\"\n",
    "\n",
    "result = text.startswith('is easy')\n",
    "# returns False\n",
    "print(result)\n",
    "result = text.startswith('Python is ')\n",
    "# returns True\n",
    "print(result)\n",
    "\n",
    "\n"
   ]
  },
  {
   "cell_type": "code",
   "execution_count": 93,
   "metadata": {},
   "outputs": [
    {
     "name": "stdout",
     "output_type": "stream",
     "text": [
      "Sobi\n"
     ]
    }
   ],
   "source": [
    "# Optional. A set of characters to remove as leading/trailing characters\n",
    "s = \",,,,,dcad.....Sobi....abbbc\"\n",
    "\n",
    "x = s.strip(\",.abcd\")\n",
    "\n",
    "print(x)\n"
   ]
  },
  {
   "cell_type": "code",
   "execution_count": 94,
   "metadata": {},
   "outputs": [
    {
     "data": {
      "text/plain": [
       "'hEllo i AM brAVE'"
      ]
     },
     "execution_count": 94,
     "metadata": {},
     "output_type": "execute_result"
    }
   ],
   "source": [
    "s = \"HeLLO I am BRave\"\n",
    "s.swapcase()"
   ]
  },
  {
   "cell_type": "code",
   "execution_count": 95,
   "metadata": {},
   "outputs": [
    {
     "data": {
      "text/plain": [
       "'Hello I Am Brave'"
      ]
     },
     "execution_count": 95,
     "metadata": {},
     "output_type": "execute_result"
    }
   ],
   "source": [
    "s.title()"
   ]
  },
  {
   "cell_type": "code",
   "execution_count": 96,
   "metadata": {},
   "outputs": [
    {
     "name": "stdout",
     "output_type": "stream",
     "text": [
      "Original string: abcdef\n",
      "Translated string: idef\n"
     ]
    }
   ],
   "source": [
    "# first string\n",
    "firstString = \"abc\"\n",
    "secondString = \"ghi\"\n",
    "thirdString = \"ab\"\n",
    "\n",
    "string = \"abcdef\"\n",
    "print(\"Original string:\", string)\n",
    "\n",
    "translation = string.maketrans(firstString, secondString, thirdString)\n",
    "\n",
    "# translate string\n",
    "print(\"Translated string:\", string.translate(translation))"
   ]
  },
  {
   "cell_type": "code",
   "execution_count": 97,
   "metadata": {},
   "outputs": [
    {
     "data": {
      "text/plain": [
       "'I M BAD'"
      ]
     },
     "execution_count": 97,
     "metadata": {},
     "output_type": "execute_result"
    }
   ],
   "source": [
    "a = \"i m bad\"\n",
    "a.upper()"
   ]
  },
  {
   "cell_type": "code",
   "execution_count": 100,
   "metadata": {},
   "outputs": [
    {
     "name": "stdout",
     "output_type": "stream",
     "text": [
      "00050\n"
     ]
    }
   ],
   "source": [
    "# Fill the string with zeros until it is 5 characters long:\n",
    "\n",
    "a = \"50\"\n",
    "\n",
    "b = a.zfill(5)\n",
    "\n",
    "print(b)\n"
   ]
  },
  {
   "cell_type": "code",
   "execution_count": null,
   "metadata": {},
   "outputs": [],
   "source": []
  }
 ],
 "metadata": {
  "kernelspec": {
   "display_name": "Python 3",
   "language": "python",
   "name": "python3"
  },
  "language_info": {
   "codemirror_mode": {
    "name": "ipython",
    "version": 3
   },
   "file_extension": ".py",
   "mimetype": "text/x-python",
   "name": "python",
   "nbconvert_exporter": "python",
   "pygments_lexer": "ipython3",
   "version": "3.7.4"
  }
 },
 "nbformat": 4,
 "nbformat_minor": 2
}
